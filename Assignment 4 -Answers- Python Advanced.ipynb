{
 "cells": [
  {
   "cell_type": "markdown",
   "metadata": {},
   "source": [
    "# Assignment 4 Questions"
   ]
  },
  {
   "cell_type": "markdown",
   "metadata": {},
   "source": [
    "## Problem Statement"
   ]
  },
  {
   "cell_type": "markdown",
   "metadata": {},
   "source": [
    "Q.1 Given a sequence of n values x1, x2, ..., xn and a window size k>0, the k-th moving average of\n",
    "the given sequence is defined as follows:\n",
    "\n",
    "The moving average sequence has n-k+1 elements as shown below.\n",
    "The moving averages with k=4 of a ten-value sequence (n=10) is shown below\n",
    "\n",
    "    i 1 2 3 4 5 6 7 8 9 10\n",
    "    ===== == == == == == == == == == ==\n",
    "    Input 10 20 30 40 50 60 70 80 90 100\n",
    "    y1 25 = (10+20+30+40)/4\n",
    "    y2 35 = (20+30+40+50)/4\n",
    "    y3 45 = (30+40+50+60)/4\n",
    "    y4 55 = (40+50+60+70)/4\n",
    "    y5 65 = (50+60+70+80)/4\n",
    "    y6 75 = (60+70+80+90)/4\n",
    "    y7 85 = (70+80+90+100)/4\n",
    "\n",
    "Thus, the moving average sequence has n-k+1=10-4+1=7 values.\n",
    "\n",
    "Write a function to find moving average in an array over a window:\n",
    "\n",
    "Test it over [3, 5, 7, 2, 8, 10, 11, 65, 72, 81, 99, 100, 150] and window of 3."
   ]
  },
  {
   "cell_type": "code",
   "execution_count": 3,
   "metadata": {},
   "outputs": [
    {
     "data": {
      "text/plain": [
       "array([  5.  ,   4.67,   5.67,   6.67,   9.67,  28.67,  49.33,  72.67,\n",
       "        84.  ,  93.33, 116.33])"
      ]
     },
     "execution_count": 3,
     "metadata": {},
     "output_type": "execute_result"
    }
   ],
   "source": [
    "import numpy as np\n",
    "def moving_average(a,n=3):\n",
    "    asum=np.cumsum(a,dtype=float)\n",
    "    asum[n:] = asum[n:]-asum[:-n]\n",
    "    return asum[n - 1:] / n\n",
    "a = [3,5,7,2,8,10,11,65,72,81,99,100,150]\n",
    "a1=np.array(a)\n",
    "np.array(moving_average(a1,n=3)).round(2)"
   ]
  },
  {
   "cell_type": "markdown",
   "metadata": {},
   "source": [
    "Q.2 How-to-count-distance-to-the-previous-zero\n",
    "For each value, count the difference back to the previous zero (or the start of the Series,\n",
    "whichever is closer)\n",
    "create a new column 'Y'\n",
    "Consider a DataFrame df where there is an integer column 'X'\n",
    "    \n",
    "    import pandas as pd\n",
    "    df = pd.DataFrame({'X': [7, 2, 0, 3, 4, 2, 5, 0, 3, 4]})"
   ]
  },
  {
   "cell_type": "code",
   "execution_count": 4,
   "metadata": {},
   "outputs": [
    {
     "data": {
      "text/plain": [
       "0    1.0\n",
       "1    2.0\n",
       "2    0.0\n",
       "3    1.0\n",
       "4    2.0\n",
       "5    3.0\n",
       "6    4.0\n",
       "7    0.0\n",
       "8    1.0\n",
       "9    2.0\n",
       "dtype: float64"
      ]
     },
     "execution_count": 4,
     "metadata": {},
     "output_type": "execute_result"
    }
   ],
   "source": [
    "import numpy as np\n",
    "import pandas as pd\n",
    "s = pd.Series([7,2,0,3,4,2,5,0,3,4])\n",
    "x = (s != 0).cumsum()\n",
    "y = x != x.shift()\n",
    "y.groupby((y != y.shift()).cumsum()).cumsum()\n"
   ]
  },
  {
   "cell_type": "markdown",
   "metadata": {},
   "source": [
    "Q.3 Create a DatetimeIndex that contains each business day of 2015 and use it to index a Series of\n",
    "random numbers."
   ]
  },
  {
   "cell_type": "code",
   "execution_count": 8,
   "metadata": {},
   "outputs": [
    {
     "name": "stdout",
     "output_type": "stream",
     "text": [
      "-----2015 Calendar-----\n",
      " 2015-01-01    0.095960\n",
      "2015-01-02    0.393355\n",
      "2015-01-03    0.071982\n",
      "2015-01-04    0.347218\n",
      "2015-01-05    0.850428\n",
      "2015-01-06    0.956828\n",
      "2015-01-07    0.296137\n",
      "2015-01-08    0.559867\n",
      "2015-01-09    0.516030\n",
      "2015-01-10    0.499143\n",
      "2015-01-11    0.738826\n",
      "2015-01-12    0.953486\n",
      "2015-01-13    0.418723\n",
      "2015-01-14    0.947441\n",
      "2015-01-15    0.371671\n",
      "2015-01-16    0.241130\n",
      "2015-01-17    0.582243\n",
      "2015-01-18    0.876241\n",
      "2015-01-19    0.907108\n",
      "2015-01-20    0.091171\n",
      "2015-01-21    0.500888\n",
      "2015-01-22    0.551692\n",
      "2015-01-23    0.119903\n",
      "2015-01-24    0.588043\n",
      "2015-01-25    0.827085\n",
      "2015-01-26    0.933813\n",
      "2015-01-27    0.540882\n",
      "2015-01-28    0.875413\n",
      "2015-01-29    0.305449\n",
      "2015-01-30    0.194140\n",
      "                ...   \n",
      "2015-12-02    0.897931\n",
      "2015-12-03    0.869224\n",
      "2015-12-04    0.626482\n",
      "2015-12-05    0.355085\n",
      "2015-12-06    0.366905\n",
      "2015-12-07    0.418931\n",
      "2015-12-08    0.361165\n",
      "2015-12-09    0.180671\n",
      "2015-12-10    0.472368\n",
      "2015-12-11    0.691627\n",
      "2015-12-12    0.327026\n",
      "2015-12-13    0.801290\n",
      "2015-12-14    0.681663\n",
      "2015-12-15    0.049573\n",
      "2015-12-16    0.462034\n",
      "2015-12-17    0.984352\n",
      "2015-12-18    0.350355\n",
      "2015-12-19    0.699300\n",
      "2015-12-20    0.202756\n",
      "2015-12-21    0.513364\n",
      "2015-12-22    0.364032\n",
      "2015-12-23    0.003830\n",
      "2015-12-24    0.939327\n",
      "2015-12-25    0.671930\n",
      "2015-12-26    0.057647\n",
      "2015-12-27    0.564816\n",
      "2015-12-28    0.604581\n",
      "2015-12-29    0.551662\n",
      "2015-12-30    0.194360\n",
      "2015-12-31    0.750937\n",
      "Freq: D, Length: 365, dtype: float64\n"
     ]
    }
   ],
   "source": [
    "import numpy as np\n",
    "import pandas as pd\n",
    "dates = pd.date_range('2015-01-01', '2015-12-31')\n",
    "s = pd.Series(np.random.rand(dates.shape[0]), index = dates) \n",
    "print('-----2015 Calendar-----\\n',s)"
   ]
  },
  {
   "cell_type": "markdown",
   "metadata": {},
   "source": [
    "Q.4 "
   ]
  }
 ],
 "metadata": {
  "kernelspec": {
   "display_name": "Python 3",
   "language": "python",
   "name": "python3"
  },
  "language_info": {
   "codemirror_mode": {
    "name": "ipython",
    "version": 3
   },
   "file_extension": ".py",
   "mimetype": "text/x-python",
   "name": "python",
   "nbconvert_exporter": "python",
   "pygments_lexer": "ipython3",
   "version": "3.7.3"
  }
 },
 "nbformat": 4,
 "nbformat_minor": 2
}
